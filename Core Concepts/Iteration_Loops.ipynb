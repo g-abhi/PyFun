{
  "nbformat": 4,
  "nbformat_minor": 0,
  "metadata": {
    "colab": {
      "name": "Iteration_Loops.ipynb",
      "provenance": []
    },
    "kernelspec": {
      "name": "python3",
      "display_name": "Python 3"
    }
  },
  "cells": [
    {
      "cell_type": "code",
      "metadata": {
        "id": "ptY_t0DnqduF"
      },
      "source": [
        "# declare and initialize a list\r\n",
        "my_list = [1, 2, 3, 4, 5]"
      ],
      "execution_count": 1,
      "outputs": []
    },
    {
      "cell_type": "code",
      "metadata": {
        "colab": {
          "base_uri": "https://localhost:8080/"
        },
        "id": "E2XLMZ-rqob-",
        "outputId": "a8fdc090-049a-42a3-f852-64b194dbe5e7"
      },
      "source": [
        "# print each element in the list with manual iteration\r\n",
        "print(my_list[0])\r\n",
        "print(my_list[1])\r\n",
        "print(my_list[2])\r\n",
        "print(my_list[3])\r\n",
        "print(my_list[4])"
      ],
      "execution_count": 2,
      "outputs": [
        {
          "output_type": "stream",
          "text": [
            "1\n",
            "2\n",
            "3\n",
            "4\n",
            "5\n"
          ],
          "name": "stdout"
        }
      ]
    },
    {
      "cell_type": "code",
      "metadata": {
        "colab": {
          "base_uri": "https://localhost:8080/"
        },
        "id": "YATolL1uqu4J",
        "outputId": "b2b9b30c-3a6f-4e3e-df4f-591deab6a0b2"
      },
      "source": [
        "# print each element in the list with for loop iteration\r\n",
        "# Note: indentation is important\r\n",
        "for my_var in my_list:\r\n",
        "    print(my_var)"
      ],
      "execution_count": 3,
      "outputs": [
        {
          "output_type": "stream",
          "text": [
            "1\n",
            "2\n",
            "3\n",
            "4\n",
            "5\n"
          ],
          "name": "stdout"
        }
      ]
    },
    {
      "cell_type": "code",
      "metadata": {
        "colab": {
          "base_uri": "https://localhost:8080/"
        },
        "id": "0tMPfoiGrHUu",
        "outputId": "e1446a62-750f-440e-a69d-3b3cdc5377c1"
      },
      "source": [
        "# set to last value from use in for loop above\r\n",
        "my_var"
      ],
      "execution_count": 4,
      "outputs": [
        {
          "output_type": "execute_result",
          "data": {
            "text/plain": [
              "5"
            ]
          },
          "metadata": {
            "tags": []
          },
          "execution_count": 4
        }
      ]
    },
    {
      "cell_type": "code",
      "metadata": {
        "colab": {
          "base_uri": "https://localhost:8080/"
        },
        "id": "gFCqL-ZurOtk",
        "outputId": "0b6e9c43-a82c-493a-daec-fe6dfabd6d36"
      },
      "source": [
        "# iterating through a string\r\n",
        "for i in \"abc\":\r\n",
        "    print(i)"
      ],
      "execution_count": 5,
      "outputs": [
        {
          "output_type": "stream",
          "text": [
            "a\n",
            "b\n",
            "c\n"
          ],
          "name": "stdout"
        }
      ]
    },
    {
      "cell_type": "code",
      "metadata": {
        "colab": {
          "base_uri": "https://localhost:8080/"
        },
        "id": "15jRChCQrhl0",
        "outputId": "80ad8845-10a2-4409-a8ec-f4c812b954c7"
      },
      "source": [
        "# iterating through a string, not a number\r\n",
        "for i in \"10\":\r\n",
        "    print(i)"
      ],
      "execution_count": 6,
      "outputs": [
        {
          "output_type": "stream",
          "text": [
            "1\n",
            "0\n"
          ],
          "name": "stdout"
        }
      ]
    },
    {
      "cell_type": "code",
      "metadata": {
        "colab": {
          "base_uri": "https://localhost:8080/"
        },
        "id": "vaZ0YZKRrxvz",
        "outputId": "f2672f5b-9f80-40a5-cfb7-b920fad42746"
      },
      "source": [
        "# iterating through a range of numbers\r\n",
        "# Note: range(a, b) means from a (inclusive) to b (exclusive)\r\n",
        "for x in range(0, 10):\r\n",
        "    print(x)"
      ],
      "execution_count": 7,
      "outputs": [
        {
          "output_type": "stream",
          "text": [
            "0\n",
            "1\n",
            "2\n",
            "3\n",
            "4\n",
            "5\n",
            "6\n",
            "7\n",
            "8\n",
            "9\n"
          ],
          "name": "stdout"
        }
      ]
    },
    {
      "cell_type": "code",
      "metadata": {
        "colab": {
          "base_uri": "https://localhost:8080/"
        },
        "id": "5fe1PDaMsBkW",
        "outputId": "66997932-21b0-4bdc-bb4c-5c55fc98d005"
      },
      "source": [
        "# iterating through a range of numbers\r\n",
        "# Note: range(a, b) means from a (inclusive) to b (exclusive)\r\n",
        "# Note: if a is not explicitly given, defaulted to 0\r\n",
        "for x in range(10):\r\n",
        "    print(x)"
      ],
      "execution_count": 8,
      "outputs": [
        {
          "output_type": "stream",
          "text": [
            "0\n",
            "1\n",
            "2\n",
            "3\n",
            "4\n",
            "5\n",
            "6\n",
            "7\n",
            "8\n",
            "9\n"
          ],
          "name": "stdout"
        }
      ]
    },
    {
      "cell_type": "code",
      "metadata": {
        "colab": {
          "base_uri": "https://localhost:8080/"
        },
        "id": "ofSU11yTsO-Y",
        "outputId": "d31265f1-cfee-49e7-d2bf-782a89533334"
      },
      "source": [
        "# declare and initialize dictionaries and a list of the dictionaries\r\n",
        "user_1 = {'username': 'abc', 'id': 1}\r\n",
        "user_2 = {'username': 'xyz', 'id': 2}\r\n",
        "my_users = [user_1, user_2]\r\n",
        "print(my_users)"
      ],
      "execution_count": 9,
      "outputs": [
        {
          "output_type": "stream",
          "text": [
            "[{'username': 'abc', 'id': 1}, {'username': 'xyz', 'id': 2}]\n"
          ],
          "name": "stdout"
        }
      ]
    },
    {
      "cell_type": "code",
      "metadata": {
        "colab": {
          "base_uri": "https://localhost:8080/"
        },
        "id": "NSjOnW_RuHzv",
        "outputId": "464195a2-9bb4-47c0-f0e8-31d74c53337b"
      },
      "source": [
        "# looping through the list of dictionaries\r\n",
        "for user in my_users:\r\n",
        "    print(user)"
      ],
      "execution_count": 10,
      "outputs": [
        {
          "output_type": "stream",
          "text": [
            "{'username': 'abc', 'id': 1}\n",
            "{'username': 'xyz', 'id': 2}\n"
          ],
          "name": "stdout"
        }
      ]
    },
    {
      "cell_type": "code",
      "metadata": {
        "colab": {
          "base_uri": "https://localhost:8080/"
        },
        "id": "0U-sFEDMuP0w",
        "outputId": "31774db4-a1f2-49d3-d441-37553a5b9ab6"
      },
      "source": [
        "# accessing keys while looping through list of dictionaries\r\n",
        "# Note: both dictionaries in the list have the same keys\r\n",
        "# Note: KeyError if the specified key is not accessible\r\n",
        "for user in my_users:\r\n",
        "    print(\"username: \" + user['username'])"
      ],
      "execution_count": 11,
      "outputs": [
        {
          "output_type": "stream",
          "text": [
            "username: abc\n",
            "username: xyz\n"
          ],
          "name": "stdout"
        }
      ]
    },
    {
      "cell_type": "code",
      "metadata": {
        "colab": {
          "base_uri": "https://localhost:8080/"
        },
        "id": "oYC151BUvFsC",
        "outputId": "4bf34c46-31b7-4f89-8ce0-c43a925442e4"
      },
      "source": [
        "# updating a dictionary and the list of dictionaries\r\n",
        "user_1['email'] = 'domain@email.com'\r\n",
        "my_users = [user_1, user_2]\r\n",
        "print(my_users)"
      ],
      "execution_count": 12,
      "outputs": [
        {
          "output_type": "stream",
          "text": [
            "[{'username': 'abc', 'id': 1, 'email': 'domain@email.com'}, {'username': 'xyz', 'id': 2}]\n"
          ],
          "name": "stdout"
        }
      ]
    },
    {
      "cell_type": "code",
      "metadata": {
        "colab": {
          "base_uri": "https://localhost:8080/"
        },
        "id": "b0m2jXOgvh8I",
        "outputId": "d8591eb8-3158-45d3-e76a-e3ca2e4fc22a"
      },
      "source": [
        "# accessing keys if possible while looping though list of dictionaries\r\n",
        "# Note: for every block (for, if, etc) extra level of indentation is required\r\n",
        "for user in my_users:\r\n",
        "    if 'email' in user:\r\n",
        "        print(user['email'])"
      ],
      "execution_count": 13,
      "outputs": [
        {
          "output_type": "stream",
          "text": [
            "domain@email.com\n"
          ],
          "name": "stdout"
        }
      ]
    },
    {
      "cell_type": "code",
      "metadata": {
        "colab": {
          "base_uri": "https://localhost:8080/"
        },
        "id": "grQ-Q4J7wAjd",
        "outputId": "1677fad9-b4d9-4125-a982-5621eb29f9f8"
      },
      "source": [
        "# nested for loops\r\n",
        "for i in range(1, 11):\r\n",
        "    for j in range(1, 11):\r\n",
        "        #value = i * j\r\n",
        "        print(str(i * j), end = \" \")\r\n",
        "    print(\"\\n\")"
      ],
      "execution_count": 14,
      "outputs": [
        {
          "output_type": "stream",
          "text": [
            "1 2 3 4 5 6 7 8 9 10 \n",
            "\n",
            "2 4 6 8 10 12 14 16 18 20 \n",
            "\n",
            "3 6 9 12 15 18 21 24 27 30 \n",
            "\n",
            "4 8 12 16 20 24 28 32 36 40 \n",
            "\n",
            "5 10 15 20 25 30 35 40 45 50 \n",
            "\n",
            "6 12 18 24 30 36 42 48 54 60 \n",
            "\n",
            "7 14 21 28 35 42 49 56 63 70 \n",
            "\n",
            "8 16 24 32 40 48 56 64 72 80 \n",
            "\n",
            "9 18 27 36 45 54 63 72 81 90 \n",
            "\n",
            "10 20 30 40 50 60 70 80 90 100 \n",
            "\n"
          ],
          "name": "stdout"
        }
      ]
    },
    {
      "cell_type": "code",
      "metadata": {
        "colab": {
          "base_uri": "https://localhost:8080/"
        },
        "id": "gBmyVQVpxNNB",
        "outputId": "112af384-7ab5-4876-e907-32335a3a3423"
      },
      "source": [
        "# looping through list of dictionaries to find a specific user\r\n",
        "# Note: uses nested if statements\r\n",
        "selected_user = {}\r\n",
        "my_user_lookup_id = 2\r\n",
        "for user in my_users:\r\n",
        "    if 'id' in user:\r\n",
        "        if user['id'] == my_user_lookup_id:\r\n",
        "            selected_user = user\r\n",
        "            print(selected_user)"
      ],
      "execution_count": 15,
      "outputs": [
        {
          "output_type": "stream",
          "text": [
            "{'username': 'xyz', 'id': 2}\n"
          ],
          "name": "stdout"
        }
      ]
    },
    {
      "cell_type": "code",
      "metadata": {
        "colab": {
          "base_uri": "https://localhost:8080/"
        },
        "id": "dGOZGo-gx11a",
        "outputId": "089ddae5-bb05-42ab-deef-a3aa6c13e06c"
      },
      "source": [
        "# looping through list of dictionaries to find a specific user\r\n",
        "# Note: checks multiple conditions in one if statement\r\n",
        "selected_user = {}\r\n",
        "my_user_lookup_id = 2\r\n",
        "for user in my_users:\r\n",
        "    if (('id' in user) & (user['id'] == my_user_lookup_id)):\r\n",
        "        selected_user = user\r\n",
        "        print(selected_user)"
      ],
      "execution_count": 16,
      "outputs": [
        {
          "output_type": "stream",
          "text": [
            "{'username': 'xyz', 'id': 2}\n"
          ],
          "name": "stdout"
        }
      ]
    },
    {
      "cell_type": "code",
      "metadata": {
        "colab": {
          "base_uri": "https://localhost:8080/"
        },
        "id": "BHJ15DYdyXoa",
        "outputId": "d66d0112-6bd4-4973-9278-a01b599152b7"
      },
      "source": [
        "# nested for loops with if condition\r\n",
        "for x in range(0, 10):\r\n",
        "    for user in my_users:\r\n",
        "        if user['id'] == x:\r\n",
        "            print(user)"
      ],
      "execution_count": 17,
      "outputs": [
        {
          "output_type": "stream",
          "text": [
            "{'username': 'abc', 'id': 1, 'email': 'domain@email.com'}\n",
            "{'username': 'xyz', 'id': 2}\n"
          ],
          "name": "stdout"
        }
      ]
    }
  ]
}