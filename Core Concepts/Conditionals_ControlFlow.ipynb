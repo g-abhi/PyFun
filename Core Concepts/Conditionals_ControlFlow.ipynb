{
  "nbformat": 4,
  "nbformat_minor": 0,
  "metadata": {
    "colab": {
      "name": "Conditionals_Control Flow.ipynb",
      "provenance": [],
      "collapsed_sections": []
    },
    "kernelspec": {
      "name": "python3",
      "display_name": "Python 3"
    }
  },
  "cells": [
    {
      "cell_type": "code",
      "metadata": {
        "colab": {
          "base_uri": "https://localhost:8080/"
        },
        "id": "q8Nn2WAfT5Hu",
        "outputId": "3cd3c76e-5b68-4806-bc00-ba5a7d350ae9"
      },
      "source": [
        "True"
      ],
      "execution_count": 1,
      "outputs": [
        {
          "output_type": "execute_result",
          "data": {
            "text/plain": [
              "True"
            ]
          },
          "metadata": {
            "tags": []
          },
          "execution_count": 1
        }
      ]
    },
    {
      "cell_type": "code",
      "metadata": {
        "colab": {
          "base_uri": "https://localhost:8080/"
        },
        "id": "WoYoHxXVUG1W",
        "outputId": "6c6039e8-eec3-49d4-c8ba-8509cc9f4422"
      },
      "source": [
        "False"
      ],
      "execution_count": 2,
      "outputs": [
        {
          "output_type": "execute_result",
          "data": {
            "text/plain": [
              "False"
            ]
          },
          "metadata": {
            "tags": []
          },
          "execution_count": 2
        }
      ]
    },
    {
      "cell_type": "code",
      "metadata": {
        "colab": {
          "base_uri": "https://localhost:8080/"
        },
        "id": "jZnKh_GoUH2E",
        "outputId": "8f25409a-97fa-421f-fac0-b64191c93c11"
      },
      "source": [
        "if True:\r\n",
        "    print(\"true\")"
      ],
      "execution_count": 3,
      "outputs": [
        {
          "output_type": "stream",
          "text": [
            "true\n"
          ],
          "name": "stdout"
        }
      ]
    },
    {
      "cell_type": "code",
      "metadata": {
        "colab": {
          "base_uri": "https://localhost:8080/"
        },
        "id": "ipjBq8DgUOrx",
        "outputId": "dfb50143-3685-4b0e-ddc5-143a131926c3"
      },
      "source": [
        "if not False:\r\n",
        "    print(\"true\")"
      ],
      "execution_count": 4,
      "outputs": [
        {
          "output_type": "stream",
          "text": [
            "true\n"
          ],
          "name": "stdout"
        }
      ]
    },
    {
      "cell_type": "code",
      "metadata": {
        "id": "lm7PRyKFUXAF"
      },
      "source": [
        "if False:\r\n",
        "    print(\"false\")"
      ],
      "execution_count": 5,
      "outputs": []
    },
    {
      "cell_type": "code",
      "metadata": {
        "colab": {
          "base_uri": "https://localhost:8080/"
        },
        "id": "LwrOgxK8UZKr",
        "outputId": "3a27cf40-63eb-4b0c-bbf3-8815749fbc2e"
      },
      "source": [
        "True == False"
      ],
      "execution_count": 6,
      "outputs": [
        {
          "output_type": "execute_result",
          "data": {
            "text/plain": [
              "False"
            ]
          },
          "metadata": {
            "tags": []
          },
          "execution_count": 6
        }
      ]
    },
    {
      "cell_type": "code",
      "metadata": {
        "colab": {
          "base_uri": "https://localhost:8080/"
        },
        "id": "VEAq901bUeb8",
        "outputId": "fc06adef-29ff-4e32-e9b2-5293c24fb927"
      },
      "source": [
        "11 > 33"
      ],
      "execution_count": 7,
      "outputs": [
        {
          "output_type": "execute_result",
          "data": {
            "text/plain": [
              "False"
            ]
          },
          "metadata": {
            "tags": []
          },
          "execution_count": 7
        }
      ]
    },
    {
      "cell_type": "code",
      "metadata": {
        "colab": {
          "base_uri": "https://localhost:8080/"
        },
        "id": "hgCtph82UgWK",
        "outputId": "a38e4eab-5e2c-4a8b-b610-d4d1d55e974f"
      },
      "source": [
        "not 11 > 33"
      ],
      "execution_count": 8,
      "outputs": [
        {
          "output_type": "execute_result",
          "data": {
            "text/plain": [
              "True"
            ]
          },
          "metadata": {
            "tags": []
          },
          "execution_count": 8
        }
      ]
    },
    {
      "cell_type": "code",
      "metadata": {
        "colab": {
          "base_uri": "https://localhost:8080/"
        },
        "id": "ySyan--DUiUr",
        "outputId": "ae810e30-973b-4ac3-c1fa-729cfa27a301"
      },
      "source": [
        "11 > 33 or 11 < 33"
      ],
      "execution_count": 9,
      "outputs": [
        {
          "output_type": "execute_result",
          "data": {
            "text/plain": [
              "True"
            ]
          },
          "metadata": {
            "tags": []
          },
          "execution_count": 9
        }
      ]
    },
    {
      "cell_type": "code",
      "metadata": {
        "colab": {
          "base_uri": "https://localhost:8080/"
        },
        "id": "z4rMqbD6UoF7",
        "outputId": "ecbe826b-7feb-46c3-83de-a663809e60d2"
      },
      "source": [
        "11 > 33 and 11 < 33"
      ],
      "execution_count": 10,
      "outputs": [
        {
          "output_type": "execute_result",
          "data": {
            "text/plain": [
              "False"
            ]
          },
          "metadata": {
            "tags": []
          },
          "execution_count": 10
        }
      ]
    },
    {
      "cell_type": "code",
      "metadata": {
        "colab": {
          "base_uri": "https://localhost:8080/"
        },
        "id": "uj2upGg4Urbb",
        "outputId": "da89a06c-5594-4082-d1d1-6e922eca3279"
      },
      "source": [
        "100 >= 100"
      ],
      "execution_count": 11,
      "outputs": [
        {
          "output_type": "execute_result",
          "data": {
            "text/plain": [
              "True"
            ]
          },
          "metadata": {
            "tags": []
          },
          "execution_count": 11
        }
      ]
    },
    {
      "cell_type": "code",
      "metadata": {
        "colab": {
          "base_uri": "https://localhost:8080/"
        },
        "id": "F79qFUvIUtw9",
        "outputId": "a2738f55-8e32-4ab3-9776-3ce799700262"
      },
      "source": [
        "100 > 100 or 100 == 100"
      ],
      "execution_count": 12,
      "outputs": [
        {
          "output_type": "execute_result",
          "data": {
            "text/plain": [
              "True"
            ]
          },
          "metadata": {
            "tags": []
          },
          "execution_count": 12
        }
      ]
    },
    {
      "cell_type": "code",
      "metadata": {
        "colab": {
          "base_uri": "https://localhost:8080/"
        },
        "id": "GG1HM4xpUv_U",
        "outputId": "e76f6d57-88e6-4e32-cb56-c671de2ca1c0"
      },
      "source": [
        "str(True).lower() == \"true\""
      ],
      "execution_count": 13,
      "outputs": [
        {
          "output_type": "execute_result",
          "data": {
            "text/plain": [
              "True"
            ]
          },
          "metadata": {
            "tags": []
          },
          "execution_count": 13
        }
      ]
    },
    {
      "cell_type": "code",
      "metadata": {
        "colab": {
          "base_uri": "https://localhost:8080/"
        },
        "id": "mvMvHlU6U4X5",
        "outputId": "5d9b75d9-6412-4b66-b5b4-18144949ecb9"
      },
      "source": [
        "str(\"true\").title() == \"True\""
      ],
      "execution_count": 14,
      "outputs": [
        {
          "output_type": "execute_result",
          "data": {
            "text/plain": [
              "True"
            ]
          },
          "metadata": {
            "tags": []
          },
          "execution_count": 14
        }
      ]
    },
    {
      "cell_type": "code",
      "metadata": {
        "colab": {
          "base_uri": "https://localhost:8080/"
        },
        "id": "3hphQysqU8eF",
        "outputId": "cb46fcd3-783a-46c0-e89f-1d605e9945fd"
      },
      "source": [
        "abc = [1, 2, 3, 4, 5]\r\n",
        "abc_sq = []\r\n",
        "for num in abc:\r\n",
        "    new_number = num ** 2\r\n",
        "    abc_sq.append(new_number)\r\n",
        "abc_sq"
      ],
      "execution_count": 15,
      "outputs": [
        {
          "output_type": "execute_result",
          "data": {
            "text/plain": [
              "[1, 4, 9, 16, 25]"
            ]
          },
          "metadata": {
            "tags": []
          },
          "execution_count": 15
        }
      ]
    },
    {
      "cell_type": "code",
      "metadata": {
        "colab": {
          "base_uri": "https://localhost:8080/"
        },
        "id": "SZTvveLNVByu",
        "outputId": "c3567a33-3df0-4ac7-a737-24016331f8d6"
      },
      "source": [
        "is_even = []\r\n",
        "is_odd = []\r\n",
        "for num in abc_sq:\r\n",
        "    if num % 2 == 0:\r\n",
        "        print(\"even\")\r\n",
        "        is_even.append(num)\r\n",
        "    else:\r\n",
        "        print(\"odd\")\r\n",
        "        is_odd.append(num)\r\n",
        "print(is_even, is_odd)"
      ],
      "execution_count": 16,
      "outputs": [
        {
          "output_type": "stream",
          "text": [
            "odd\n",
            "even\n",
            "odd\n",
            "even\n",
            "odd\n",
            "[4, 16] [1, 9, 25]\n"
          ],
          "name": "stdout"
        }
      ]
    },
    {
      "cell_type": "code",
      "metadata": {
        "colab": {
          "base_uri": "https://localhost:8080/"
        },
        "id": "g-11n_X5WS60",
        "outputId": "bbb8ab8f-0fa2-4be0-c75b-d6a518113cdf"
      },
      "source": [
        "x = 10\r\n",
        "i = 0\r\n",
        "while i < x:\r\n",
        "    print(i)\r\n",
        "    i = i + 1"
      ],
      "execution_count": 17,
      "outputs": [
        {
          "output_type": "stream",
          "text": [
            "0\n",
            "1\n",
            "2\n",
            "3\n",
            "4\n",
            "5\n",
            "6\n",
            "7\n",
            "8\n",
            "9\n"
          ],
          "name": "stdout"
        }
      ]
    },
    {
      "cell_type": "code",
      "metadata": {
        "colab": {
          "base_uri": "https://localhost:8080/"
        },
        "id": "5LCeIgt_WevY",
        "outputId": "61455135-c354-4b49-e34e-a2c4433a3d8d"
      },
      "source": [
        "x = 10\r\n",
        "i = 0\r\n",
        "z = 1\r\n",
        "while i < x:\r\n",
        "    z *= 2\r\n",
        "    if z > 350000:\r\n",
        "        break\r\n",
        "    print(z, i)\r\n",
        "    i += 0.01"
      ],
      "execution_count": 18,
      "outputs": [
        {
          "output_type": "stream",
          "text": [
            "2 0\n",
            "4 0.01\n",
            "8 0.02\n",
            "16 0.03\n",
            "32 0.04\n",
            "64 0.05\n",
            "128 0.060000000000000005\n",
            "256 0.07\n",
            "512 0.08\n",
            "1024 0.09\n",
            "2048 0.09999999999999999\n",
            "4096 0.10999999999999999\n",
            "8192 0.11999999999999998\n",
            "16384 0.12999999999999998\n",
            "32768 0.13999999999999999\n",
            "65536 0.15\n",
            "131072 0.16\n",
            "262144 0.17\n"
          ],
          "name": "stdout"
        }
      ]
    },
    {
      "cell_type": "code",
      "metadata": {
        "colab": {
          "base_uri": "https://localhost:8080/"
        },
        "id": "Ab9usdfjXAuQ",
        "outputId": "f14fe379-38cb-4374-bd89-f16e896f7bb8"
      },
      "source": [
        "x = 10\r\n",
        "i = 0\r\n",
        "while i < x:\r\n",
        "    if i % 2 == 0:\r\n",
        "        pass\r\n",
        "    else:\r\n",
        "        print(\"odd\")\r\n",
        "    i += 1"
      ],
      "execution_count": 19,
      "outputs": [
        {
          "output_type": "stream",
          "text": [
            "odd\n",
            "odd\n",
            "odd\n",
            "odd\n",
            "odd\n"
          ],
          "name": "stdout"
        }
      ]
    },
    {
      "cell_type": "code",
      "metadata": {
        "colab": {
          "base_uri": "https://localhost:8080/"
        },
        "id": "K2PIGDuVXhsm",
        "outputId": "adcbbe1e-b1ab-4191-be77-bce0e2a6c7ed"
      },
      "source": [
        "x = 10\r\n",
        "i = 0\r\n",
        "while i < x:\r\n",
        "    i += 1\r\n",
        "    if i % 2 == 0:\r\n",
        "        continue\r\n",
        "    else:\r\n",
        "        print(\"odd\")"
      ],
      "execution_count": 20,
      "outputs": [
        {
          "output_type": "stream",
          "text": [
            "odd\n",
            "odd\n",
            "odd\n",
            "odd\n",
            "odd\n"
          ],
          "name": "stdout"
        }
      ]
    }
  ]
}