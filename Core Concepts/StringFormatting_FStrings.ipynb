{
  "nbformat": 4,
  "nbformat_minor": 0,
  "metadata": {
    "colab": {
      "name": "StringFormatting_FStrings.ipynb",
      "provenance": []
    },
    "kernelspec": {
      "name": "python3",
      "display_name": "Python 3"
    }
  },
  "cells": [
    {
      "cell_type": "code",
      "metadata": {
        "colab": {
          "base_uri": "https://localhost:8080/",
          "height": 35
        },
        "id": "5PmHkgSFYW0w",
        "outputId": "f478182c-853c-459d-c370-be53245d5722"
      },
      "source": [
        "\"Hello Person 0\""
      ],
      "execution_count": 1,
      "outputs": [
        {
          "output_type": "execute_result",
          "data": {
            "application/vnd.google.colaboratory.intrinsic+json": {
              "type": "string"
            },
            "text/plain": [
              "'Hello Person 0'"
            ]
          },
          "metadata": {
            "tags": []
          },
          "execution_count": 1
        }
      ]
    },
    {
      "cell_type": "code",
      "metadata": {
        "colab": {
          "base_uri": "https://localhost:8080/"
        },
        "id": "COpMqYhjYl1r",
        "outputId": "24137dd8-3138-4efc-af69-0f30d4dcf903"
      },
      "source": [
        "names = [\"Person 1\", \"Person 2\", \"Person 3\"]\r\n",
        "for name in names:\r\n",
        "    print(f\"Hello {name}\")"
      ],
      "execution_count": 2,
      "outputs": [
        {
          "output_type": "stream",
          "text": [
            "Hello Person 1\n",
            "Hello Person 2\n",
            "Hello Person 3\n"
          ],
          "name": "stdout"
        }
      ]
    },
    {
      "cell_type": "code",
      "metadata": {
        "colab": {
          "base_uri": "https://localhost:8080/"
        },
        "id": "kasYW1QMZOcF",
        "outputId": "86cf4fde-3588-4064-e1d3-90e4c039c665"
      },
      "source": [
        "template = \"\"\"Hello {name}, \r\n",
        "this is an amazing way \r\n",
        "to add your name.\"\"\"\r\n",
        "print(template)"
      ],
      "execution_count": 3,
      "outputs": [
        {
          "output_type": "stream",
          "text": [
            "Hello {name}, \n",
            "this is an amazing way \n",
            "to add your name.\n"
          ],
          "name": "stdout"
        }
      ]
    },
    {
      "cell_type": "code",
      "metadata": {
        "colab": {
          "base_uri": "https://localhost:8080/",
          "height": 35
        },
        "id": "GbsnYb0cZflY",
        "outputId": "d59ef71c-8834-4907-9afc-e5141cdca75f"
      },
      "source": [
        "template.format(name = 'MY NAME')"
      ],
      "execution_count": 4,
      "outputs": [
        {
          "output_type": "execute_result",
          "data": {
            "application/vnd.google.colaboratory.intrinsic+json": {
              "type": "string"
            },
            "text/plain": [
              "'Hello MY NAME, \\nthis is an amazing way \\nto add your name.'"
            ]
          },
          "metadata": {
            "tags": []
          },
          "execution_count": 4
        }
      ]
    },
    {
      "cell_type": "code",
      "metadata": {
        "colab": {
          "base_uri": "https://localhost:8080/"
        },
        "id": "QkzL3Wq3Zs9I",
        "outputId": "52cb531b-de76-4a2a-b1b0-01f029757f51"
      },
      "source": [
        "print(\"\\n\")"
      ],
      "execution_count": 5,
      "outputs": [
        {
          "output_type": "stream",
          "text": [
            "\n",
            "\n"
          ],
          "name": "stdout"
        }
      ]
    },
    {
      "cell_type": "code",
      "metadata": {
        "colab": {
          "base_uri": "https://localhost:8080/",
          "height": 35
        },
        "id": "JP3aWyjCZwpF",
        "outputId": "abbedae1-c4a3-4973-8591-61496bb230a5"
      },
      "source": [
        "'''line\r\n",
        "break'''"
      ],
      "execution_count": 6,
      "outputs": [
        {
          "output_type": "execute_result",
          "data": {
            "application/vnd.google.colaboratory.intrinsic+json": {
              "type": "string"
            },
            "text/plain": [
              "'line\\nbreak'"
            ]
          },
          "metadata": {
            "tags": []
          },
          "execution_count": 6
        }
      ]
    },
    {
      "cell_type": "code",
      "metadata": {
        "colab": {
          "base_uri": "https://localhost:8080/",
          "height": 35
        },
        "id": "JuSVX41bZ62u",
        "outputId": "9da6bb33-61e9-4af6-a71b-bce6e778dc40"
      },
      "source": [
        "'''Is this \\\r\n",
        "another line?'''"
      ],
      "execution_count": 7,
      "outputs": [
        {
          "output_type": "execute_result",
          "data": {
            "application/vnd.google.colaboratory.intrinsic+json": {
              "type": "string"
            },
            "text/plain": [
              "'Is this another line?'"
            ]
          },
          "metadata": {
            "tags": []
          },
          "execution_count": 7
        }
      ]
    },
    {
      "cell_type": "code",
      "metadata": {
        "colab": {
          "base_uri": "https://localhost:8080/",
          "height": 35
        },
        "id": "kUNE58wWaWoV",
        "outputId": "b87da406-4500-4e06-af0c-1ba60e450739"
      },
      "source": [
        "\"https:\\\\www.python.xyz\""
      ],
      "execution_count": 8,
      "outputs": [
        {
          "output_type": "execute_result",
          "data": {
            "application/vnd.google.colaboratory.intrinsic+json": {
              "type": "string"
            },
            "text/plain": [
              "'https:\\\\www.python.xyz'"
            ]
          },
          "metadata": {
            "tags": []
          },
          "execution_count": 8
        }
      ]
    },
    {
      "cell_type": "code",
      "metadata": {
        "colab": {
          "base_uri": "https://localhost:8080/"
        },
        "id": "R4KwAtGWbRhT",
        "outputId": "7bc827b4-9dec-49df-9649-486414d4217c"
      },
      "source": [
        "print(\"https:\\\\www.python.xyz\")"
      ],
      "execution_count": 9,
      "outputs": [
        {
          "output_type": "stream",
          "text": [
            "https:\\www.python.xyz\n"
          ],
          "name": "stdout"
        }
      ]
    },
    {
      "cell_type": "code",
      "metadata": {
        "colab": {
          "base_uri": "https://localhost:8080/"
        },
        "id": "SpLPs9f8bVTg",
        "outputId": "38679832-8ffc-4c22-fc3e-2f2d3545c59b"
      },
      "source": [
        "print(\"https:\\\\\\\\www.python.xyz\")"
      ],
      "execution_count": 10,
      "outputs": [
        {
          "output_type": "stream",
          "text": [
            "https:\\\\www.python.xyz\n"
          ],
          "name": "stdout"
        }
      ]
    },
    {
      "cell_type": "code",
      "metadata": {
        "colab": {
          "base_uri": "https://localhost:8080/"
        },
        "id": "58TsR6GccLuT",
        "outputId": "733a5938-aaf1-48bb-d6f1-abba7e0e896e"
      },
      "source": [
        "template = \"{name} is cool but it would be cooler to have only curly braces\".format(name = \"{name}\")\r\n",
        "print(template)"
      ],
      "execution_count": 11,
      "outputs": [
        {
          "output_type": "stream",
          "text": [
            "{name} is cool but it would be cooler to have only curly braces\n"
          ],
          "name": "stdout"
        }
      ]
    },
    {
      "cell_type": "code",
      "metadata": {
        "colab": {
          "base_uri": "https://localhost:8080/"
        },
        "id": "Ya-NI7AkbYma",
        "outputId": "92419dea-3030-42b5-aa58-39ffa62ace1a"
      },
      "source": [
        "template = \"{name} is cool but it would be cooler to have only {}\".format(\"{}\", name = \"{name}\")\r\n",
        "print(template)"
      ],
      "execution_count": 12,
      "outputs": [
        {
          "output_type": "stream",
          "text": [
            "{name} is cool but it would be cooler to have only {}\n"
          ],
          "name": "stdout"
        }
      ]
    },
    {
      "cell_type": "code",
      "metadata": {
        "colab": {
          "base_uri": "https://localhost:8080/"
        },
        "id": "wrXYwxAHceOz",
        "outputId": "6c55a631-72af-4719-db09-feebfdcf3a3f"
      },
      "source": [
        "template = \"{name} is cool but it would be cooler to have only {{}}\".format(name = \"{name}\")\r\n",
        "print(template)"
      ],
      "execution_count": 13,
      "outputs": [
        {
          "output_type": "stream",
          "text": [
            "{name} is cool but it would be cooler to have only {}\n"
          ],
          "name": "stdout"
        }
      ]
    },
    {
      "cell_type": "code",
      "metadata": {
        "colab": {
          "base_uri": "https://localhost:8080/",
          "height": 35
        },
        "id": "43eKENlicyju",
        "outputId": "be087bf0-03fb-477a-dd9e-e499e6ce80f3"
      },
      "source": [
        "name = \"f string\"\r\n",
        "f\"{name} is awesome\""
      ],
      "execution_count": 14,
      "outputs": [
        {
          "output_type": "execute_result",
          "data": {
            "application/vnd.google.colaboratory.intrinsic+json": {
              "type": "string"
            },
            "text/plain": [
              "'f string is awesome'"
            ]
          },
          "metadata": {
            "tags": []
          },
          "execution_count": 14
        }
      ]
    },
    {
      "cell_type": "code",
      "metadata": {
        "colab": {
          "base_uri": "https://localhost:8080/"
        },
        "id": "77Zb8dxjcxfI",
        "outputId": "e5d42c64-67ab-4c32-e5ea-42ba87678aff"
      },
      "source": [
        "3.141592653589793238462643383279502884197169399375105820974944592307816406286208998"
      ],
      "execution_count": 15,
      "outputs": [
        {
          "output_type": "execute_result",
          "data": {
            "text/plain": [
              "3.141592653589793"
            ]
          },
          "metadata": {
            "tags": []
          },
          "execution_count": 15
        }
      ]
    },
    {
      "cell_type": "code",
      "metadata": {
        "colab": {
          "base_uri": "https://localhost:8080/"
        },
        "id": "NWzJ3ppadbPZ",
        "outputId": "52f27e11-24c0-444c-a119-8c64f96dcd7c"
      },
      "source": [
        "import math\r\n",
        "math.pi"
      ],
      "execution_count": 16,
      "outputs": [
        {
          "output_type": "execute_result",
          "data": {
            "text/plain": [
              "3.141592653589793"
            ]
          },
          "metadata": {
            "tags": []
          },
          "execution_count": 16
        }
      ]
    },
    {
      "cell_type": "code",
      "metadata": {
        "colab": {
          "base_uri": "https://localhost:8080/",
          "height": 35
        },
        "id": "0c4sRCYCdidT",
        "outputId": "bf7883bf-017d-46a0-a93f-4e86942e9093"
      },
      "source": [
        "f\"{math.pi}\""
      ],
      "execution_count": 17,
      "outputs": [
        {
          "output_type": "execute_result",
          "data": {
            "application/vnd.google.colaboratory.intrinsic+json": {
              "type": "string"
            },
            "text/plain": [
              "'3.141592653589793'"
            ]
          },
          "metadata": {
            "tags": []
          },
          "execution_count": 17
        }
      ]
    },
    {
      "cell_type": "code",
      "metadata": {
        "colab": {
          "base_uri": "https://localhost:8080/",
          "height": 35
        },
        "id": "Zmj7oftAdm4K",
        "outputId": "9cbbbcb7-b45c-4fce-8aec-fdf21250b27f"
      },
      "source": [
        "\"{}\".format(math.pi)"
      ],
      "execution_count": 18,
      "outputs": [
        {
          "output_type": "execute_result",
          "data": {
            "application/vnd.google.colaboratory.intrinsic+json": {
              "type": "string"
            },
            "text/plain": [
              "'3.141592653589793'"
            ]
          },
          "metadata": {
            "tags": []
          },
          "execution_count": 18
        }
      ]
    },
    {
      "cell_type": "code",
      "metadata": {
        "colab": {
          "base_uri": "https://localhost:8080/",
          "height": 35
        },
        "id": "EtWhx-Mwd4Di",
        "outputId": "eda20c8b-1c69-4605-b801-4800ccb62180"
      },
      "source": [
        "\"{:f}\".format(math.pi)"
      ],
      "execution_count": 19,
      "outputs": [
        {
          "output_type": "execute_result",
          "data": {
            "application/vnd.google.colaboratory.intrinsic+json": {
              "type": "string"
            },
            "text/plain": [
              "'3.141593'"
            ]
          },
          "metadata": {
            "tags": []
          },
          "execution_count": 19
        }
      ]
    },
    {
      "cell_type": "code",
      "metadata": {
        "colab": {
          "base_uri": "https://localhost:8080/",
          "height": 35
        },
        "id": "KYqeMojGeA2E",
        "outputId": "fa546b0b-2566-4956-89ad-637b86522652"
      },
      "source": [
        "\"{:.5f}\".format(math.pi)"
      ],
      "execution_count": 20,
      "outputs": [
        {
          "output_type": "execute_result",
          "data": {
            "application/vnd.google.colaboratory.intrinsic+json": {
              "type": "string"
            },
            "text/plain": [
              "'3.14159'"
            ]
          },
          "metadata": {
            "tags": []
          },
          "execution_count": 20
        }
      ]
    },
    {
      "cell_type": "code",
      "metadata": {
        "colab": {
          "base_uri": "https://localhost:8080/",
          "height": 35
        },
        "id": "8n338ILPebp_",
        "outputId": "987a8849-8e9a-4825-8e85-74e4f9fdd732"
      },
      "source": [
        "format(math.pi, \".5f\")"
      ],
      "execution_count": 21,
      "outputs": [
        {
          "output_type": "execute_result",
          "data": {
            "application/vnd.google.colaboratory.intrinsic+json": {
              "type": "string"
            },
            "text/plain": [
              "'3.14159'"
            ]
          },
          "metadata": {
            "tags": []
          },
          "execution_count": 21
        }
      ]
    },
    {
      "cell_type": "code",
      "metadata": {
        "colab": {
          "base_uri": "https://localhost:8080/",
          "height": 35
        },
        "id": "d2wcB7E7emxV",
        "outputId": "6c968d6f-0cb5-4f86-e3e9-ccd6fd991a0d"
      },
      "source": [
        "f\"{format(math.pi, '.5f')}\""
      ],
      "execution_count": 22,
      "outputs": [
        {
          "output_type": "execute_result",
          "data": {
            "application/vnd.google.colaboratory.intrinsic+json": {
              "type": "string"
            },
            "text/plain": [
              "'3.14159'"
            ]
          },
          "metadata": {
            "tags": []
          },
          "execution_count": 22
        }
      ]
    }
  ]
}