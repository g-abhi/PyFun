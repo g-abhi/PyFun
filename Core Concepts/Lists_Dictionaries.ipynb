{
  "nbformat": 4,
  "nbformat_minor": 0,
  "metadata": {
    "colab": {
      "name": "Lists_Dictionaries.ipynb",
      "provenance": []
    },
    "kernelspec": {
      "name": "python3",
      "display_name": "Python 3"
    }
  },
  "cells": [
    {
      "cell_type": "code",
      "metadata": {
        "id": "xPKG1BsEj42z"
      },
      "source": [
        "# declare & initialize list with elements\r\n",
        "my_list = [12.99, 312, 32, 14.5]"
      ],
      "execution_count": 1,
      "outputs": []
    },
    {
      "cell_type": "code",
      "metadata": {
        "colab": {
          "base_uri": "https://localhost:8080/"
        },
        "id": "Yaehj-3rklWK",
        "outputId": "d58a1cca-e379-4d26-a359-c9c4e0861adb"
      },
      "source": [
        "# sum elements in list\r\n",
        "sum(my_list)"
      ],
      "execution_count": 2,
      "outputs": [
        {
          "output_type": "execute_result",
          "data": {
            "text/plain": [
              "371.49"
            ]
          },
          "metadata": {
            "tags": []
          },
          "execution_count": 2
        }
      ]
    },
    {
      "cell_type": "code",
      "metadata": {
        "id": "FpeCofmSkpLs"
      },
      "source": [
        "# append value to list\r\n",
        "my_list.append(9.99)"
      ],
      "execution_count": 3,
      "outputs": []
    },
    {
      "cell_type": "code",
      "metadata": {
        "colab": {
          "base_uri": "https://localhost:8080/"
        },
        "id": "Af8uLAtLkrju",
        "outputId": "e7a7ebf9-9bd8-4b6c-ce13-11eb190d3db4"
      },
      "source": [
        "# print list\r\n",
        "print(my_list)"
      ],
      "execution_count": 4,
      "outputs": [
        {
          "output_type": "stream",
          "text": [
            "[12.99, 312, 32, 14.5, 9.99]\n"
          ],
          "name": "stdout"
        }
      ]
    },
    {
      "cell_type": "code",
      "metadata": {
        "colab": {
          "base_uri": "https://localhost:8080/"
        },
        "id": "3QlOl0F8ktnn",
        "outputId": "6d883376-33c1-4c23-d532-e263808fb5e7"
      },
      "source": [
        "# length of list\r\n",
        "len(my_list)"
      ],
      "execution_count": 5,
      "outputs": [
        {
          "output_type": "execute_result",
          "data": {
            "text/plain": [
              "5"
            ]
          },
          "metadata": {
            "tags": []
          },
          "execution_count": 5
        }
      ]
    },
    {
      "cell_type": "code",
      "metadata": {
        "colab": {
          "base_uri": "https://localhost:8080/"
        },
        "id": "8_FH7MtNkvR6",
        "outputId": "bbdd0b2a-5aba-4a71-ed31-9bc7b6c2d9ff"
      },
      "source": [
        "# accessing element in list with index\r\n",
        "# Note: indexing starts with 0\r\n",
        "my_list[3]"
      ],
      "execution_count": 6,
      "outputs": [
        {
          "output_type": "execute_result",
          "data": {
            "text/plain": [
              "14.5"
            ]
          },
          "metadata": {
            "tags": []
          },
          "execution_count": 6
        }
      ]
    },
    {
      "cell_type": "code",
      "metadata": {
        "colab": {
          "base_uri": "https://localhost:8080/"
        },
        "id": "gaUOcjm8lEbX",
        "outputId": "c0e29f95-fd26-414d-ebd0-f85ae50d9706"
      },
      "source": [
        "# access last element\r\n",
        "my_list[-1]"
      ],
      "execution_count": 7,
      "outputs": [
        {
          "output_type": "execute_result",
          "data": {
            "text/plain": [
              "9.99"
            ]
          },
          "metadata": {
            "tags": []
          },
          "execution_count": 7
        }
      ]
    },
    {
      "cell_type": "code",
      "metadata": {
        "colab": {
          "base_uri": "https://localhost:8080/"
        },
        "id": "8I6bL_7nlLCf",
        "outputId": "3b6a649a-be5d-4661-9186-9c973ac94ed4"
      },
      "source": [
        "# calculation with accessed list element\r\n",
        "my_list[2] * 2"
      ],
      "execution_count": 8,
      "outputs": [
        {
          "output_type": "execute_result",
          "data": {
            "text/plain": [
              "64"
            ]
          },
          "metadata": {
            "tags": []
          },
          "execution_count": 8
        }
      ]
    },
    {
      "cell_type": "code",
      "metadata": {
        "colab": {
          "base_uri": "https://localhost:8080/"
        },
        "id": "JiW3HetFlOUu",
        "outputId": "f27c1208-db15-43b0-8d3e-5ef8e5374a56"
      },
      "source": [
        "# representing strings as a list of characters\r\n",
        "my_string = \"hello world\"\r\n",
        "print(len(my_string))\r\n",
        "print(my_string[4])"
      ],
      "execution_count": 9,
      "outputs": [
        {
          "output_type": "stream",
          "text": [
            "11\n",
            "o\n"
          ],
          "name": "stdout"
        }
      ]
    },
    {
      "cell_type": "code",
      "metadata": {
        "id": "kPfAXZLfldMh"
      },
      "source": [
        "my_items = [\"apple\", \"laptop\", \"banana\", \"orange\", \"chocolate\"]"
      ],
      "execution_count": 10,
      "outputs": []
    },
    {
      "cell_type": "code",
      "metadata": {
        "colab": {
          "base_uri": "https://localhost:8080/"
        },
        "id": "SPeEaPcMlzHz",
        "outputId": "2a82e907-eea2-43c9-b5b4-229299061aa6"
      },
      "source": [
        "my_items"
      ],
      "execution_count": 11,
      "outputs": [
        {
          "output_type": "execute_result",
          "data": {
            "text/plain": [
              "['apple', 'laptop', 'banana', 'orange', 'chocolate']"
            ]
          },
          "metadata": {
            "tags": []
          },
          "execution_count": 11
        }
      ]
    },
    {
      "cell_type": "code",
      "metadata": {
        "colab": {
          "base_uri": "https://localhost:8080/"
        },
        "id": "VBztW_M6l5ZM",
        "outputId": "0b044536-29b2-49f9-d363-e1e0cbdde045"
      },
      "source": [
        "# mapping elements in different lists together\r\n",
        "print(my_list[1])\r\n",
        "print(my_items[1])"
      ],
      "execution_count": 12,
      "outputs": [
        {
          "output_type": "stream",
          "text": [
            "312\n",
            "laptop\n"
          ],
          "name": "stdout"
        }
      ]
    },
    {
      "cell_type": "code",
      "metadata": {
        "colab": {
          "base_uri": "https://localhost:8080/"
        },
        "id": "nfqbxawomCD4",
        "outputId": "4960fcf0-9560-4f12-f7e9-bc22b59cfaff"
      },
      "source": [
        "# creating a list of lists\r\n",
        "my_list_of_lists = [my_list, my_items]\r\n",
        "print(my_list_of_lists)\r\n",
        "print(len(my_list_of_lists))"
      ],
      "execution_count": 13,
      "outputs": [
        {
          "output_type": "stream",
          "text": [
            "[[12.99, 312, 32, 14.5, 9.99], ['apple', 'laptop', 'banana', 'orange', 'chocolate']]\n",
            "2\n"
          ],
          "name": "stdout"
        }
      ]
    },
    {
      "cell_type": "code",
      "metadata": {
        "id": "5Q-5JcxnmXR0"
      },
      "source": [
        "# declaring and initializing a dictionary with {key: value}\r\n",
        "my_dict = {\"name\": \"Person 1\"}"
      ],
      "execution_count": 14,
      "outputs": []
    },
    {
      "cell_type": "code",
      "metadata": {
        "colab": {
          "base_uri": "https://localhost:8080/",
          "height": 35
        },
        "id": "X-AcZV6Vmdna",
        "outputId": "31a9ba44-6198-459c-899b-369ea509cc25"
      },
      "source": [
        "# indexing a dictionary with dict[key]\r\n",
        "my_dict[\"name\"]"
      ],
      "execution_count": 15,
      "outputs": [
        {
          "output_type": "execute_result",
          "data": {
            "application/vnd.google.colaboratory.intrinsic+json": {
              "type": "string"
            },
            "text/plain": [
              "'Person 1'"
            ]
          },
          "metadata": {
            "tags": []
          },
          "execution_count": 15
        }
      ]
    },
    {
      "cell_type": "code",
      "metadata": {
        "id": "3DNy1sCYmkmy"
      },
      "source": [
        "# re-defining the dictionary with multiple key-value pairs\r\n",
        "my_dict = {\"name\": \"Person 1\", \"location\": \"somewhere\"}"
      ],
      "execution_count": 16,
      "outputs": []
    },
    {
      "cell_type": "code",
      "metadata": {
        "colab": {
          "base_uri": "https://localhost:8080/"
        },
        "id": "E8H9ulC5mttA",
        "outputId": "fb499f8e-09b2-4ac8-dad0-8aabfe726d88"
      },
      "source": [
        "# accessing keys of a dictionary\r\n",
        "my_dict.keys()"
      ],
      "execution_count": 17,
      "outputs": [
        {
          "output_type": "execute_result",
          "data": {
            "text/plain": [
              "dict_keys(['name', 'location'])"
            ]
          },
          "metadata": {
            "tags": []
          },
          "execution_count": 17
        }
      ]
    },
    {
      "cell_type": "code",
      "metadata": {
        "colab": {
          "base_uri": "https://localhost:8080/"
        },
        "id": "Pilo8j7pmzev",
        "outputId": "24f11482-053a-4362-da26-fedcbe630841"
      },
      "source": [
        "# retrieving a list of the keys in a dictionary\r\n",
        "list(my_dict.keys())"
      ],
      "execution_count": 18,
      "outputs": [
        {
          "output_type": "execute_result",
          "data": {
            "text/plain": [
              "['name', 'location']"
            ]
          },
          "metadata": {
            "tags": []
          },
          "execution_count": 18
        }
      ]
    },
    {
      "cell_type": "code",
      "metadata": {
        "colab": {
          "base_uri": "https://localhost:8080/",
          "height": 35
        },
        "id": "6yOslHlMm235",
        "outputId": "fb63b280-19dd-4683-f34b-6db2ba5e0e08"
      },
      "source": [
        "# accessing an element from the list of dictionary keys\r\n",
        "list(my_dict.keys())[0]"
      ],
      "execution_count": 19,
      "outputs": [
        {
          "output_type": "execute_result",
          "data": {
            "application/vnd.google.colaboratory.intrinsic+json": {
              "type": "string"
            },
            "text/plain": [
              "'name'"
            ]
          },
          "metadata": {
            "tags": []
          },
          "execution_count": 19
        }
      ]
    },
    {
      "cell_type": "code",
      "metadata": {
        "id": "zUPPJQZYm7pA"
      },
      "source": [
        "# adding a new key-value pair to the dictionary\r\n",
        "my_dict[\"favorite color\"] = \"red\""
      ],
      "execution_count": 20,
      "outputs": []
    },
    {
      "cell_type": "code",
      "metadata": {
        "colab": {
          "base_uri": "https://localhost:8080/"
        },
        "id": "edC-n-cGnX3J",
        "outputId": "77841087-ccba-42c8-dbcd-1307755a8f6b"
      },
      "source": [
        "# visualizing the updated dictionary\r\n",
        "my_dict"
      ],
      "execution_count": 21,
      "outputs": [
        {
          "output_type": "execute_result",
          "data": {
            "text/plain": [
              "{'favorite color': 'red', 'location': 'somewhere', 'name': 'Person 1'}"
            ]
          },
          "metadata": {
            "tags": []
          },
          "execution_count": 21
        }
      ]
    },
    {
      "cell_type": "code",
      "metadata": {
        "colab": {
          "base_uri": "https://localhost:8080/"
        },
        "id": "JZbELeKqnpzo",
        "outputId": "af102fab-70a5-4205-a394-229b223c8bf3"
      },
      "source": [
        "# creating a list of dictionaries\r\n",
        "person_1 = {\"name\": \"Person 1\", \"location\": \"Place 1\"}\r\n",
        "person_2 = {\"name\": \"Person 2\", \"location\": \"Place 2\"}\r\n",
        "my_person_list = [person_1, person_2]\r\n",
        "print(my_person_list)"
      ],
      "execution_count": 22,
      "outputs": [
        {
          "output_type": "stream",
          "text": [
            "[{'name': 'Person 1', 'location': 'Place 1'}, {'name': 'Person 2', 'location': 'Place 2'}]\n"
          ],
          "name": "stdout"
        }
      ]
    }
  ]
}