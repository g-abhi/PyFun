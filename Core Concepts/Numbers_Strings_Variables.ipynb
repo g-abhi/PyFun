{
  "nbformat": 4,
  "nbformat_minor": 0,
  "metadata": {
    "colab": {
      "name": "Numbers, Variables, Strings.ipynb",
      "provenance": []
    },
    "kernelspec": {
      "name": "python3",
      "display_name": "Python 3"
    }
  },
  "cells": [
    {
      "cell_type": "code",
      "metadata": {
        "colab": {
          "base_uri": "https://localhost:8080/"
        },
        "id": "MtZ2a5jLcXRd",
        "outputId": "ca5193cb-9b68-41f4-d4e0-9e91939da5eb"
      },
      "source": [
        "# addition\r\n",
        "\r\n",
        "10 + 10"
      ],
      "execution_count": 1,
      "outputs": [
        {
          "output_type": "execute_result",
          "data": {
            "text/plain": [
              "20"
            ]
          },
          "metadata": {
            "tags": []
          },
          "execution_count": 1
        }
      ]
    },
    {
      "cell_type": "code",
      "metadata": {
        "colab": {
          "base_uri": "https://localhost:8080/"
        },
        "id": "cpb08CzeepN2",
        "outputId": "de6dcaac-a89f-4252-c569-3339d87d3250"
      },
      "source": [
        "# subtraction\r\n",
        "\r\n",
        "111 - 111111"
      ],
      "execution_count": 2,
      "outputs": [
        {
          "output_type": "execute_result",
          "data": {
            "text/plain": [
              "-111000"
            ]
          },
          "metadata": {
            "tags": []
          },
          "execution_count": 2
        }
      ]
    },
    {
      "cell_type": "code",
      "metadata": {
        "colab": {
          "base_uri": "https://localhost:8080/"
        },
        "id": "5jIb47CFewPj",
        "outputId": "89d78550-c5c4-4ece-f93b-4c67edded861"
      },
      "source": [
        "# multiplication\r\n",
        "\r\n",
        "12 * 31"
      ],
      "execution_count": 3,
      "outputs": [
        {
          "output_type": "execute_result",
          "data": {
            "text/plain": [
              "372"
            ]
          },
          "metadata": {
            "tags": []
          },
          "execution_count": 3
        }
      ]
    },
    {
      "cell_type": "code",
      "metadata": {
        "colab": {
          "base_uri": "https://localhost:8080/"
        },
        "id": "qRgp-nMBe0t0",
        "outputId": "f3c7f2d8-eead-4779-bae2-aa13d89b9016"
      },
      "source": [
        "# division\r\n",
        "\r\n",
        "12 / 31"
      ],
      "execution_count": 4,
      "outputs": [
        {
          "output_type": "execute_result",
          "data": {
            "text/plain": [
              "0.3870967741935484"
            ]
          },
          "metadata": {
            "tags": []
          },
          "execution_count": 4
        }
      ]
    },
    {
      "cell_type": "code",
      "metadata": {
        "colab": {
          "base_uri": "https://localhost:8080/"
        },
        "id": "b8Htukioj_Rp",
        "outputId": "c71d4325-c55d-48a9-df38-f020aa7f4bc9"
      },
      "source": [
        "# modulus\r\n",
        "\r\n",
        "7 % 4"
      ],
      "execution_count": 5,
      "outputs": [
        {
          "output_type": "execute_result",
          "data": {
            "text/plain": [
              "3"
            ]
          },
          "metadata": {
            "tags": []
          },
          "execution_count": 5
        }
      ]
    },
    {
      "cell_type": "code",
      "metadata": {
        "colab": {
          "base_uri": "https://localhost:8080/"
        },
        "id": "Z0KgJZZ1e2a-",
        "outputId": "a425f54d-e533-46b0-e4ec-f5ca2e676e40"
      },
      "source": [
        "# exponents\r\n",
        "\r\n",
        "5 ** 2"
      ],
      "execution_count": 6,
      "outputs": [
        {
          "output_type": "execute_result",
          "data": {
            "text/plain": [
              "25"
            ]
          },
          "metadata": {
            "tags": []
          },
          "execution_count": 6
        }
      ]
    },
    {
      "cell_type": "code",
      "metadata": {
        "colab": {
          "base_uri": "https://localhost:8080/"
        },
        "id": "7yWEpcXTe4Tt",
        "outputId": "8efa99f5-f6cd-4c09-dbc9-29d2dd703dbf"
      },
      "source": [
        "# exponents - fractional powers\r\n",
        "\r\n",
        "5 ** (1/2)"
      ],
      "execution_count": 7,
      "outputs": [
        {
          "output_type": "execute_result",
          "data": {
            "text/plain": [
              "2.23606797749979"
            ]
          },
          "metadata": {
            "tags": []
          },
          "execution_count": 7
        }
      ]
    },
    {
      "cell_type": "code",
      "metadata": {
        "colab": {
          "base_uri": "https://localhost:8080/"
        },
        "id": "_zCjU8uIe7R2",
        "outputId": "b4c14bd0-6979-40b8-f4ce-2296bf37259e"
      },
      "source": [
        "# rounding down with floor function\r\n",
        "\r\n",
        "import math\r\n",
        "math.floor(5 ** (1/2))"
      ],
      "execution_count": 8,
      "outputs": [
        {
          "output_type": "execute_result",
          "data": {
            "text/plain": [
              "2"
            ]
          },
          "metadata": {
            "tags": []
          },
          "execution_count": 8
        }
      ]
    },
    {
      "cell_type": "code",
      "metadata": {
        "colab": {
          "base_uri": "https://localhost:8080/"
        },
        "id": "B7jlsxnefoIh",
        "outputId": "3a6d42e1-156c-47d5-c0ba-bd7e0ba03de4"
      },
      "source": [
        "# rounding up with ceiliing function\r\n",
        "\r\n",
        "import math\r\n",
        "math.ceil(5 ** (1/2))"
      ],
      "execution_count": 9,
      "outputs": [
        {
          "output_type": "execute_result",
          "data": {
            "text/plain": [
              "3"
            ]
          },
          "metadata": {
            "tags": []
          },
          "execution_count": 9
        }
      ]
    },
    {
      "cell_type": "code",
      "metadata": {
        "colab": {
          "base_uri": "https://localhost:8080/",
          "height": 35
        },
        "id": "LZ_KMDbNf85P",
        "outputId": "2459442f-8ed3-44e6-c516-693282c81b53"
      },
      "source": [
        "# string repetition with *\r\n",
        "\"3\" * 3"
      ],
      "execution_count": 10,
      "outputs": [
        {
          "output_type": "execute_result",
          "data": {
            "application/vnd.google.colaboratory.intrinsic+json": {
              "type": "string"
            },
            "text/plain": [
              "'333'"
            ]
          },
          "metadata": {
            "tags": []
          },
          "execution_count": 10
        }
      ]
    },
    {
      "cell_type": "code",
      "metadata": {
        "colab": {
          "base_uri": "https://localhost:8080/",
          "height": 35
        },
        "id": "-8ldoh74gNkv",
        "outputId": "8f0bdf08-8bbb-463e-824d-f84bee0ad565"
      },
      "source": [
        "# string concatenation with +\r\n",
        "\"hello world\" + \"second str\""
      ],
      "execution_count": 11,
      "outputs": [
        {
          "output_type": "execute_result",
          "data": {
            "application/vnd.google.colaboratory.intrinsic+json": {
              "type": "string"
            },
            "text/plain": [
              "'hello worldsecond str'"
            ]
          },
          "metadata": {
            "tags": []
          },
          "execution_count": 11
        }
      ]
    },
    {
      "cell_type": "code",
      "metadata": {
        "id": "SLOlwS-Bgs28"
      },
      "source": [
        "# slicing strings\r\n",
        "# string[start: end: step]\r\n",
        "# start: (inclusive) starting index of the substring. If not included, assumed to equal to 0.\r\n",
        "# end: (exclusive) terminating index of the substring. If not included, or if exceeds string length, assumed to be equal to length of string.\r\n",
        "# step: Every 'step' character after the current character to be included. The default value is 1. If the step value is omitted, it is assumed to equal to 1."
      ],
      "execution_count": 12,
      "outputs": []
    },
    {
      "cell_type": "code",
      "metadata": {
        "colab": {
          "base_uri": "https://localhost:8080/",
          "height": 35
        },
        "id": "6kVvbQ9Zh3EJ",
        "outputId": "eb3a1b9b-16c0-4285-8e42-3d990557745b"
      },
      "source": [
        "\"helloworld\"[0:5]"
      ],
      "execution_count": 13,
      "outputs": [
        {
          "output_type": "execute_result",
          "data": {
            "application/vnd.google.colaboratory.intrinsic+json": {
              "type": "string"
            },
            "text/plain": [
              "'hello'"
            ]
          },
          "metadata": {
            "tags": []
          },
          "execution_count": 13
        }
      ]
    },
    {
      "cell_type": "code",
      "metadata": {
        "colab": {
          "base_uri": "https://localhost:8080/",
          "height": 35
        },
        "id": "xRFChM8GiC0s",
        "outputId": "11a4b995-483a-44b8-9045-5239b18acc2d"
      },
      "source": [
        "str1 = \"variable\"\r\n",
        "str1[::2]"
      ],
      "execution_count": 14,
      "outputs": [
        {
          "output_type": "execute_result",
          "data": {
            "application/vnd.google.colaboratory.intrinsic+json": {
              "type": "string"
            },
            "text/plain": [
              "'vral'"
            ]
          },
          "metadata": {
            "tags": []
          },
          "execution_count": 14
        }
      ]
    },
    {
      "cell_type": "code",
      "metadata": {
        "colab": {
          "base_uri": "https://localhost:8080/"
        },
        "id": "YuRPKNNmiGyi",
        "outputId": "ad2ffbe1-cea0-45c8-e3f4-92ec686afed7"
      },
      "source": [
        "# length of a string\r\n",
        "len(str1)"
      ],
      "execution_count": 15,
      "outputs": [
        {
          "output_type": "execute_result",
          "data": {
            "text/plain": [
              "8"
            ]
          },
          "metadata": {
            "tags": []
          },
          "execution_count": 15
        }
      ]
    },
    {
      "cell_type": "code",
      "metadata": {
        "colab": {
          "base_uri": "https://localhost:8080/"
        },
        "id": "6OvQ_XrXiUqS",
        "outputId": "c2720581-d2f4-4f16-ea65-a32261794195"
      },
      "source": [
        "# escaping with strings\r\n",
        "example1 = \"this is an \\\"awesome\\\" time\"\r\n",
        "example2 = 'this is an \"awesome\" time'\r\n",
        "example3 = \"this is an 'awesome' time\"\r\n",
        "print(example1)\r\n",
        "print(example2)\r\n",
        "print(example3)"
      ],
      "execution_count": 16,
      "outputs": [
        {
          "output_type": "stream",
          "text": [
            "this is an \"awesome\" time\n",
            "this is an \"awesome\" time\n",
            "this is an 'awesome' time\n"
          ],
          "name": "stdout"
        }
      ]
    },
    {
      "cell_type": "code",
      "metadata": {
        "colab": {
          "base_uri": "https://localhost:8080/",
          "height": 35
        },
        "id": "PQofemkvihac",
        "outputId": "66eb3f99-e68f-4238-f9f6-ece5b5253b7b"
      },
      "source": [
        "# line break with string\r\n",
        "\"line\\nbreak\""
      ],
      "execution_count": 17,
      "outputs": [
        {
          "output_type": "execute_result",
          "data": {
            "application/vnd.google.colaboratory.intrinsic+json": {
              "type": "string"
            },
            "text/plain": [
              "'line\\nbreak'"
            ]
          },
          "metadata": {
            "tags": []
          },
          "execution_count": 17
        }
      ]
    },
    {
      "cell_type": "code",
      "metadata": {
        "colab": {
          "base_uri": "https://localhost:8080/"
        },
        "id": "RopG3kaGi-nL",
        "outputId": "374aa5fc-323f-447b-d495-c2517e80c6d3"
      },
      "source": [
        "# line break with print statement\r\n",
        "print(\"line\\nbreak\")"
      ],
      "execution_count": 18,
      "outputs": [
        {
          "output_type": "stream",
          "text": [
            "line\n",
            "break\n"
          ],
          "name": "stdout"
        }
      ]
    }
  ]
}