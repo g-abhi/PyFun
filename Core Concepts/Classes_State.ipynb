{
  "nbformat": 4,
  "nbformat_minor": 0,
  "metadata": {
    "colab": {
      "name": "Classes_State.ipynb",
      "provenance": []
    },
    "kernelspec": {
      "name": "python3",
      "display_name": "Python 3"
    }
  },
  "cells": [
    {
      "cell_type": "code",
      "metadata": {
        "id": "xTrUPdwgrqrJ"
      },
      "source": [
        "class MyClass:\r\n",
        "      def hello(self):\r\n",
        "          print(\"hello\")"
      ],
      "execution_count": 1,
      "outputs": []
    },
    {
      "cell_type": "code",
      "metadata": {
        "colab": {
          "base_uri": "https://localhost:8080/"
        },
        "id": "AvRL8aDNu1Bm",
        "outputId": "dfd24c0f-263b-4d7e-b170-1a16c131a508"
      },
      "source": [
        "obj = MyClass()\r\n",
        "obj.hello()"
      ],
      "execution_count": 2,
      "outputs": [
        {
          "output_type": "stream",
          "text": [
            "hello\n"
          ],
          "name": "stdout"
        }
      ]
    },
    {
      "cell_type": "code",
      "metadata": {
        "id": "CaygGm6CvICN"
      },
      "source": [
        "class Animal0:\r\n",
        "    noise = \"Grrr\"\r\n",
        "    def make_noise(self):\r\n",
        "        print(\"hello\")"
      ],
      "execution_count": 3,
      "outputs": []
    },
    {
      "cell_type": "code",
      "metadata": {
        "colab": {
          "base_uri": "https://localhost:8080/"
        },
        "id": "hOOEiDSWvT7X",
        "outputId": "7973b907-6e80-4d7e-95a5-f671c86e10ef"
      },
      "source": [
        "obj0 = Animal0()\r\n",
        "obj0"
      ],
      "execution_count": 4,
      "outputs": [
        {
          "output_type": "execute_result",
          "data": {
            "text/plain": [
              "<__main__.Animal0 at 0x7fc31df2afd0>"
            ]
          },
          "metadata": {
            "tags": []
          },
          "execution_count": 4
        }
      ]
    },
    {
      "cell_type": "code",
      "metadata": {
        "colab": {
          "base_uri": "https://localhost:8080/",
          "height": 35
        },
        "id": "GVexlibsvXpU",
        "outputId": "4c27679c-2601-46ad-fd93-d6e21236204e"
      },
      "source": [
        "obj0.noise"
      ],
      "execution_count": 5,
      "outputs": [
        {
          "output_type": "execute_result",
          "data": {
            "application/vnd.google.colaboratory.intrinsic+json": {
              "type": "string"
            },
            "text/plain": [
              "'Grrr'"
            ]
          },
          "metadata": {
            "tags": []
          },
          "execution_count": 5
        }
      ]
    },
    {
      "cell_type": "code",
      "metadata": {
        "colab": {
          "base_uri": "https://localhost:8080/"
        },
        "id": "rKPFO2NwvZik",
        "outputId": "a8da3b5c-299e-44e7-b323-743698fa9e2d"
      },
      "source": [
        "obj0.make_noise()"
      ],
      "execution_count": 6,
      "outputs": [
        {
          "output_type": "stream",
          "text": [
            "hello\n"
          ],
          "name": "stdout"
        }
      ]
    },
    {
      "cell_type": "code",
      "metadata": {
        "id": "LBtPVmWcvcSY"
      },
      "source": [
        "class Animal:\r\n",
        "    noise = \"Grrr\"\r\n",
        "    color = \"Purple\"\r\n",
        "    def make_noise(self):\r\n",
        "        print(f\"{self.noise}\")\r\n",
        "\r\n",
        "    def set_noise(self, new_noise):\r\n",
        "        self.noise = new_noise\r\n",
        "\r\n",
        "    def get_color(self):\r\n",
        "        return self.color\r\n",
        "\r\n",
        "    def set_color(self, color):\r\n",
        "        self.color = color\r\n",
        "        return self.color"
      ],
      "execution_count": 7,
      "outputs": []
    },
    {
      "cell_type": "code",
      "metadata": {
        "id": "gA0jkN4svqX6"
      },
      "source": [
        "obj = Animal()"
      ],
      "execution_count": 8,
      "outputs": []
    },
    {
      "cell_type": "code",
      "metadata": {
        "colab": {
          "base_uri": "https://localhost:8080/",
          "height": 35
        },
        "id": "5X0AMGT8vwVX",
        "outputId": "3a63cfd4-e9d6-45ea-dc6d-e1595a459d78"
      },
      "source": [
        "obj.noise"
      ],
      "execution_count": 9,
      "outputs": [
        {
          "output_type": "execute_result",
          "data": {
            "application/vnd.google.colaboratory.intrinsic+json": {
              "type": "string"
            },
            "text/plain": [
              "'Grrr'"
            ]
          },
          "metadata": {
            "tags": []
          },
          "execution_count": 9
        }
      ]
    },
    {
      "cell_type": "code",
      "metadata": {
        "colab": {
          "base_uri": "https://localhost:8080/"
        },
        "id": "zr_Qsu13v8xC",
        "outputId": "98211ef7-ede5-4afa-bea3-1f870b49143d"
      },
      "source": [
        "obj.make_noise()"
      ],
      "execution_count": 10,
      "outputs": [
        {
          "output_type": "stream",
          "text": [
            "Grrr\n"
          ],
          "name": "stdout"
        }
      ]
    },
    {
      "cell_type": "code",
      "metadata": {
        "colab": {
          "base_uri": "https://localhost:8080/"
        },
        "id": "X5nFPPYNv-D7",
        "outputId": "251bc454-4760-4c38-d28b-879a4d63ddf9"
      },
      "source": [
        "Animal().make_noise()"
      ],
      "execution_count": 11,
      "outputs": [
        {
          "output_type": "stream",
          "text": [
            "Grrr\n"
          ],
          "name": "stdout"
        }
      ]
    },
    {
      "cell_type": "code",
      "metadata": {
        "colab": {
          "base_uri": "https://localhost:8080/"
        },
        "id": "mWF_ac2WwAa2",
        "outputId": "a905abb7-e3d9-4ba2-9b31-b2b00311ae8d"
      },
      "source": [
        "obj.set_noise(\"ARGGG\")\r\n",
        "obj.make_noise()"
      ],
      "execution_count": 12,
      "outputs": [
        {
          "output_type": "stream",
          "text": [
            "ARGGG\n"
          ],
          "name": "stdout"
        }
      ]
    },
    {
      "cell_type": "code",
      "metadata": {
        "colab": {
          "base_uri": "https://localhost:8080/"
        },
        "id": "x1mTdhu6wYjz",
        "outputId": "00a3c913-d2a0-4f43-ec83-93e0d21b7062"
      },
      "source": [
        "abc = Animal()\r\n",
        "abc.make_noise()"
      ],
      "execution_count": 13,
      "outputs": [
        {
          "output_type": "stream",
          "text": [
            "Grrr\n"
          ],
          "name": "stdout"
        }
      ]
    },
    {
      "cell_type": "code",
      "metadata": {
        "colab": {
          "base_uri": "https://localhost:8080/"
        },
        "id": "CfJPAyNLwsxs",
        "outputId": "65f67fd9-f808-44bc-9667-7f71377b39cd"
      },
      "source": [
        "abc.set_noise(\"Another NOISE\")\r\n",
        "abc.make_noise()"
      ],
      "execution_count": 14,
      "outputs": [
        {
          "output_type": "stream",
          "text": [
            "Another NOISE\n"
          ],
          "name": "stdout"
        }
      ]
    },
    {
      "cell_type": "code",
      "metadata": {
        "colab": {
          "base_uri": "https://localhost:8080/"
        },
        "id": "GB9qSNuJwxZe",
        "outputId": "19b08199-f9e6-4cb4-9627-dd2b5dc01663"
      },
      "source": [
        "obj.make_noise()"
      ],
      "execution_count": 15,
      "outputs": [
        {
          "output_type": "stream",
          "text": [
            "ARGGG\n"
          ],
          "name": "stdout"
        }
      ]
    },
    {
      "cell_type": "code",
      "metadata": {
        "colab": {
          "base_uri": "https://localhost:8080/",
          "height": 35
        },
        "id": "2hF8d9kQw5SD",
        "outputId": "d260d895-70a0-48d3-9a4f-8d1d7c48615b"
      },
      "source": [
        "obj.get_color()"
      ],
      "execution_count": 16,
      "outputs": [
        {
          "output_type": "execute_result",
          "data": {
            "application/vnd.google.colaboratory.intrinsic+json": {
              "type": "string"
            },
            "text/plain": [
              "'Purple'"
            ]
          },
          "metadata": {
            "tags": []
          },
          "execution_count": 16
        }
      ]
    },
    {
      "cell_type": "code",
      "metadata": {
        "colab": {
          "base_uri": "https://localhost:8080/",
          "height": 35
        },
        "id": "SQWMA_EuxlNG",
        "outputId": "cdcca9ae-93f4-4702-b5d3-a2d2889a5c38"
      },
      "source": [
        "obj.set_color(\"Red\")"
      ],
      "execution_count": 17,
      "outputs": [
        {
          "output_type": "execute_result",
          "data": {
            "application/vnd.google.colaboratory.intrinsic+json": {
              "type": "string"
            },
            "text/plain": [
              "'Red'"
            ]
          },
          "metadata": {
            "tags": []
          },
          "execution_count": 17
        }
      ]
    },
    {
      "cell_type": "code",
      "metadata": {
        "colab": {
          "base_uri": "https://localhost:8080/",
          "height": 35
        },
        "id": "yxwSnysgxng3",
        "outputId": "b93efedc-7186-4e28-d508-e12c749d9f81"
      },
      "source": [
        "obj.get_color()"
      ],
      "execution_count": 18,
      "outputs": [
        {
          "output_type": "execute_result",
          "data": {
            "application/vnd.google.colaboratory.intrinsic+json": {
              "type": "string"
            },
            "text/plain": [
              "'Red'"
            ]
          },
          "metadata": {
            "tags": []
          },
          "execution_count": 18
        }
      ]
    },
    {
      "cell_type": "code",
      "metadata": {
        "id": "bOVe8McNxp6G"
      },
      "source": [
        "class Cat(Animal):\r\n",
        "    noise = \"meow\""
      ],
      "execution_count": 19,
      "outputs": []
    },
    {
      "cell_type": "code",
      "metadata": {
        "id": "Qi7ez5a4x3x9"
      },
      "source": [
        "c = Cat()"
      ],
      "execution_count": 20,
      "outputs": []
    },
    {
      "cell_type": "code",
      "metadata": {
        "colab": {
          "base_uri": "https://localhost:8080/"
        },
        "id": "QBZLKAkKx6TW",
        "outputId": "d4807f38-837f-4a57-db80-d1916942d4b6"
      },
      "source": [
        "c.make_noise()"
      ],
      "execution_count": 21,
      "outputs": [
        {
          "output_type": "stream",
          "text": [
            "meow\n"
          ],
          "name": "stdout"
        }
      ]
    },
    {
      "cell_type": "code",
      "metadata": {
        "colab": {
          "base_uri": "https://localhost:8080/",
          "height": 35
        },
        "id": "dBJQPYqAx7tg",
        "outputId": "0f0867df-c9c4-4771-93ab-1e4c64989aee"
      },
      "source": [
        "c.get_color()"
      ],
      "execution_count": 22,
      "outputs": [
        {
          "output_type": "execute_result",
          "data": {
            "application/vnd.google.colaboratory.intrinsic+json": {
              "type": "string"
            },
            "text/plain": [
              "'Purple'"
            ]
          },
          "metadata": {
            "tags": []
          },
          "execution_count": 22
        }
      ]
    },
    {
      "cell_type": "code",
      "metadata": {
        "id": "xGD8dngNyAB9"
      },
      "source": [
        "class Kitten(Cat):\r\n",
        "    color = \"yellow\""
      ],
      "execution_count": 23,
      "outputs": []
    },
    {
      "cell_type": "code",
      "metadata": {
        "id": "Gs6mgtrJyKzh"
      },
      "source": [
        "k = Kitten()"
      ],
      "execution_count": 24,
      "outputs": []
    },
    {
      "cell_type": "code",
      "metadata": {
        "colab": {
          "base_uri": "https://localhost:8080/"
        },
        "id": "WwooZXxcyMRR",
        "outputId": "a1ab1331-ddbc-41c5-e5b1-062dac4818ce"
      },
      "source": [
        "k.make_noise()"
      ],
      "execution_count": 25,
      "outputs": [
        {
          "output_type": "stream",
          "text": [
            "meow\n"
          ],
          "name": "stdout"
        }
      ]
    },
    {
      "cell_type": "code",
      "metadata": {
        "colab": {
          "base_uri": "https://localhost:8080/",
          "height": 35
        },
        "id": "Ubxea1sSyNEv",
        "outputId": "c5654d0c-0843-46e6-acf3-8ef53a8049e1"
      },
      "source": [
        "k.get_color()"
      ],
      "execution_count": 26,
      "outputs": [
        {
          "output_type": "execute_result",
          "data": {
            "application/vnd.google.colaboratory.intrinsic+json": {
              "type": "string"
            },
            "text/plain": [
              "'yellow'"
            ]
          },
          "metadata": {
            "tags": []
          },
          "execution_count": 26
        }
      ]
    },
    {
      "cell_type": "code",
      "metadata": {
        "id": "TtN2y9HoyOCJ"
      },
      "source": [
        "class OtherClass:\r\n",
        "    my_name = \"OtherClass\"\r\n",
        "    def __init__(self, my_name=\"\", *args, **kwargs):\r\n",
        "        self.my_name = my_name\r\n",
        "        print(f\"Hi! My name is {self.my_name}.\")"
      ],
      "execution_count": 27,
      "outputs": []
    },
    {
      "cell_type": "code",
      "metadata": {
        "colab": {
          "base_uri": "https://localhost:8080/"
        },
        "id": "0Z37tsLkzDgU",
        "outputId": "d026681f-1500-4798-87dd-9a301ce27f05"
      },
      "source": [
        "some_class = OtherClass(\"this_class\")"
      ],
      "execution_count": 28,
      "outputs": [
        {
          "output_type": "stream",
          "text": [
            "Hi! My name is this_class.\n"
          ],
          "name": "stdout"
        }
      ]
    }
  ]
}