{
  "nbformat": 4,
  "nbformat_minor": 0,
  "metadata": {
    "colab": {
      "name": "Functions_PythonModules.ipynb",
      "provenance": []
    },
    "kernelspec": {
      "name": "python3",
      "display_name": "Python 3"
    }
  },
  "cells": [
    {
      "cell_type": "code",
      "metadata": {
        "colab": {
          "base_uri": "https://localhost:8080/"
        },
        "id": "FyvEZ053fhum",
        "outputId": "5dedbef4-235d-4f97-ee23-9a02e3b3513d"
      },
      "source": [
        "print(\"print is a built-in function\")"
      ],
      "execution_count": 1,
      "outputs": [
        {
          "output_type": "stream",
          "text": [
            "print is a built-in function\n"
          ],
          "name": "stdout"
        }
      ]
    },
    {
      "cell_type": "code",
      "metadata": {
        "colab": {
          "base_uri": "https://localhost:8080/"
        },
        "id": "HJYkCoEngfXP",
        "outputId": "922b3629-469c-41a1-ee24-f41b67b889a9"
      },
      "source": [
        "def my_print(txt):\r\n",
        "    print(\"This is my_print function printing \" + txt)\r\n",
        "\r\n",
        "my_print(\"Hello World\")"
      ],
      "execution_count": 2,
      "outputs": [
        {
          "output_type": "stream",
          "text": [
            "This is my_print function printing Hello World\n"
          ],
          "name": "stdout"
        }
      ]
    },
    {
      "cell_type": "code",
      "metadata": {
        "colab": {
          "base_uri": "https://localhost:8080/",
          "height": 53
        },
        "id": "cYl24QF-08UT",
        "outputId": "2167d890-0dd9-448c-cd25-9342471babe9"
      },
      "source": [
        "# positional arguments\r\n",
        "print(\"{} {}\".format(\"abc\", 123))\r\n",
        "\"{1} {0}\".format(\"abc\", 123)"
      ],
      "execution_count": 3,
      "outputs": [
        {
          "output_type": "stream",
          "text": [
            "abc 123\n"
          ],
          "name": "stdout"
        },
        {
          "output_type": "execute_result",
          "data": {
            "application/vnd.google.colaboratory.intrinsic+json": {
              "type": "string"
            },
            "text/plain": [
              "'123 abc'"
            ]
          },
          "metadata": {
            "tags": []
          },
          "execution_count": 3
        }
      ]
    },
    {
      "cell_type": "code",
      "metadata": {
        "colab": {
          "base_uri": "https://localhost:8080/",
          "height": 35
        },
        "id": "wR8Nvotu1GR3",
        "outputId": "e4a4c4e1-7714-4e2c-e1d8-60dfa8202b98"
      },
      "source": [
        "# keyword arguments\r\n",
        "\"{name} {number}\".format(name=\"abc\", number=123)"
      ],
      "execution_count": 4,
      "outputs": [
        {
          "output_type": "execute_result",
          "data": {
            "application/vnd.google.colaboratory.intrinsic+json": {
              "type": "string"
            },
            "text/plain": [
              "'abc 123'"
            ]
          },
          "metadata": {
            "tags": []
          },
          "execution_count": 4
        }
      ]
    },
    {
      "cell_type": "code",
      "metadata": {
        "colab": {
          "base_uri": "https://localhost:8080/",
          "height": 35
        },
        "id": "GpAxAm3_1MyN",
        "outputId": "77e9873d-9f33-4657-c124-c78d2a0aba5b"
      },
      "source": [
        "# positional and keyword arguments\r\n",
        "\"{} {name} {number}\".format(\"mix\", name=\"abc\", number=123)"
      ],
      "execution_count": 5,
      "outputs": [
        {
          "output_type": "execute_result",
          "data": {
            "application/vnd.google.colaboratory.intrinsic+json": {
              "type": "string"
            },
            "text/plain": [
              "'mix abc 123'"
            ]
          },
          "metadata": {
            "tags": []
          },
          "execution_count": 5
        }
      ]
    },
    {
      "cell_type": "code",
      "metadata": {
        "id": "_lv5PLhN05ZH"
      },
      "source": [
        "def base_function(*args, **kwargs):\r\n",
        "    print(args, kwargs)"
      ],
      "execution_count": 6,
      "outputs": []
    },
    {
      "cell_type": "code",
      "metadata": {
        "colab": {
          "base_uri": "https://localhost:8080/"
        },
        "id": "p8f4vInmlgMB",
        "outputId": "e20823e6-25a2-44fd-d8f4-e8b1af84b2d7"
      },
      "source": [
        "base_function()"
      ],
      "execution_count": 7,
      "outputs": [
        {
          "output_type": "stream",
          "text": [
            "() {}\n"
          ],
          "name": "stdout"
        }
      ]
    },
    {
      "cell_type": "code",
      "metadata": {
        "colab": {
          "base_uri": "https://localhost:8080/"
        },
        "id": "RSgZY7rnlRX1",
        "outputId": "ac54e5ab-a861-4630-92cd-a0a7cc306886"
      },
      "source": [
        "base_function('zero', 'one', keyword='my_keyword')"
      ],
      "execution_count": 8,
      "outputs": [
        {
          "output_type": "stream",
          "text": [
            "('zero', 'one') {'keyword': 'my_keyword'}\n"
          ],
          "name": "stdout"
        }
      ]
    }
  ]
}