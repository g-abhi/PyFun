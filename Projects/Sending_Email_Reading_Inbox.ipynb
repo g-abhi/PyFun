{
  "nbformat": 4,
  "nbformat_minor": 0,
  "metadata": {
    "colab": {
      "name": "Sending-Email_Reading-Inbox.ipynb",
      "provenance": [],
      "collapsed_sections": []
    },
    "kernelspec": {
      "name": "python3",
      "display_name": "Python 3"
    }
  },
  "cells": [
    {
      "cell_type": "code",
      "metadata": {
        "id": "kuyvZTl5ATdv"
      },
      "source": [
        "import smtplib\r\n",
        "from email.mime.text import MIMEText\r\n",
        "from email.mime.multipart import MIMEMultipart"
      ],
      "execution_count": null,
      "outputs": []
    },
    {
      "cell_type": "code",
      "metadata": {
        "id": "1Y9g6E4GC1oD"
      },
      "source": [
        "username = 'email'\r\n",
        "password = 'password'"
      ],
      "execution_count": null,
      "outputs": []
    },
    {
      "cell_type": "code",
      "metadata": {
        "id": "MlqUKKHwCzeB"
      },
      "source": [
        "def send_mail(subject='email sent with python', from_email='name<email>', to_emails=['list of email recipients'], html=None):\r\n",
        "    assert isinstance(to_emails, list)\r\n",
        "    msg = MIMEMultipart('alternative')\r\n",
        "    msg['From'] = from_email\r\n",
        "    msg['To'] = \", \".join(to_emails)\r\n",
        "    msg['Subject'] = subject\r\n",
        "    if html != None:\r\n",
        "        text_part = MIMEText(html, 'html')\r\n",
        "        msg.attach(text_part)\r\n",
        "    msg_str = msg.as_string()\r\n",
        "    # login to my smtp server\r\n",
        "    server = smtplib.SMTP(host='smtp.gmail.com', port=587)\r\n",
        "    server.ehlo()\r\n",
        "    server.starttls()\r\n",
        "    server.login(username, password)\r\n",
        "    server.sendmail(from_email, to_emails, msg_str)\r\n",
        "    server.quit()"
      ],
      "execution_count": null,
      "outputs": []
    },
    {
      "cell_type": "code",
      "metadata": {
        "id": "KepQEC6nD-ud"
      },
      "source": [
        "subject = 'my first email from python'\r\n",
        "to_emails = ['list of email recipients']\r\n",
        "html_text = '<h1>Enter text with HTML</h1>\r\n",
        "send_mail(subject=subject, to_emails=to_emails, html=html_text)"
      ],
      "execution_count": null,
      "outputs": []
    },
    {
      "cell_type": "code",
      "metadata": {
        "id": "gR85Hg3hTc-5"
      },
      "source": [
        "import imaplib\r\n",
        "import email"
      ],
      "execution_count": null,
      "outputs": []
    },
    {
      "cell_type": "code",
      "metadata": {
        "id": "80VRuUe8TpTJ"
      },
      "source": [
        "host = 'imap.gmail.com'\r\n",
        "username = 'email'\r\n",
        "password = 'password'"
      ],
      "execution_count": null,
      "outputs": []
    },
    {
      "cell_type": "code",
      "metadata": {
        "id": "9j217QaMT6Ou"
      },
      "source": [
        "def get_inbox():\r\n",
        "    mail = imaplib.IMAP4_SSL(host)\r\n",
        "    mail.login(username, password)\r\n",
        "    mail.select(\"inbox\")\r\n",
        "    _, search_data = mail.search(None, 'UNSEEN')\r\n",
        "    my_message = []\r\n",
        "    for num in search_data[0].split():\r\n",
        "        email_data = {}\r\n",
        "        _, data = mail.fetch(num, '(RFC822)')\r\n",
        "        # print(data[0])\r\n",
        "        _, b = data[0]\r\n",
        "        email_message = email.message_from_bytes(b)\r\n",
        "        for header in ['subject', 'to', 'from', 'date']:\r\n",
        "            print(\"{}: {}\".format(header, email_message[header]))\r\n",
        "            email_data[header] = email_message[header]\r\n",
        "        for part in email_message.walk():\r\n",
        "            if part.get_content_type() == \"text/plain\":\r\n",
        "                body = part.get_payload(decode=True)\r\n",
        "                email_data['body'] = body.decode()\r\n",
        "            elif part.get_content_type() == \"text/html\":\r\n",
        "                html_body = part.get_payload(decode=True)\r\n",
        "                email_data['html_body'] = html_body.decode()\r\n",
        "        my_message.append(email_data)\r\n",
        "    return my_message"
      ],
      "execution_count": null,
      "outputs": []
    },
    {
      "cell_type": "code",
      "metadata": {
        "id": "5nhH0zyLT7Xp"
      },
      "source": [
        "get_inbox()"
      ],
      "execution_count": null,
      "outputs": []
    }
  ]
}